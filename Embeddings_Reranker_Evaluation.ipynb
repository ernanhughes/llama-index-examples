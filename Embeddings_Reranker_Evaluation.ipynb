{
  "cells": [
    {
      "cell_type": "markdown",
      "metadata": {
        "id": "view-in-github",
        "colab_type": "text"
      },
      "source": [
        "<a href=\"https://colab.research.google.com/github/ernanhughes/llama-index-examples/blob/main/Embeddings_Reranker_Evaluation.ipynb\" target=\"_parent\"><img src=\"https://colab.research.google.com/assets/colab-badge.svg\" alt=\"Open In Colab\"/></a>"
      ]
    },
    {
      "cell_type": "markdown",
      "id": "42fc5c20-860d-46ac-834e-83c3773682c4",
      "metadata": {
        "id": "42fc5c20-860d-46ac-834e-83c3773682c4"
      },
      "source": [
        "# Boosting RAG: Picking the Best Embedding & Reranker models\n",
        "\n",
        "When building a Retrieval Augmented Generation (RAG) pipeline, one key component is the Retriever. We have a variety of embedding models to choose from, including OpenAI, CohereAI, and open-source sentence transformers. Additionally, there are several rerankers available from CohereAI and sentence transformers.\n",
        "\n",
        "But with all these options, how do we determine the best mix for top-notch retrieval performance? How do we know which embedding model fits our data best? Or which reranker boosts our results the most?\n",
        "\n",
        "In this tutorial Notebook, we'll use the `Retrieval Evaluation` module from LlamaIndex to swiftly determine the best combination of embedding and reranker models. Let's dive in!\n",
        "\n",
        "Let’s first start with understanding the metrics available in `Retrieval Evaluation`\n",
        "\n",
        "**Understanding Metrics in Retrieval Evaluation**:\n",
        "\n",
        "To gauge the efficacy of our retrieval system, we primarily relied on two widely-accepted metrics: **Hit Rate** and **Mean Reciprocal Rank (MRR)**. Let's delve into these metrics to understand their significance and how they operate.\n",
        "\n",
        "- **Hit Rate**:\n",
        "    \n",
        "    Hit rate calculates the fraction of queries where the correct answer is found within the top-k retrieved documents. In simpler terms, it's about how often our system gets it right within the top few guesses.\n",
        "    \n",
        "- **Mean Reciprocal Rank (MRR)**:\n",
        "    \n",
        "    For each query, MRR evaluates the system's accuracy by looking at the rank of the highest-placed relevant document. Specifically, it's the average of the reciprocals of these ranks across all the queries. So, if the first relevant document is the top result, the reciprocal rank is 1; if it's second, the reciprocal rank is 1/2, and so on."
      ]
    },
    {
      "cell_type": "code",
      "execution_count": null,
      "id": "c05bfb0a-369c-444a-bd30-2bd263a55c93",
      "metadata": {
        "scrolled": true,
        "id": "c05bfb0a-369c-444a-bd30-2bd263a55c93",
        "colab": {
          "base_uri": "https://localhost:8080/"
        },
        "outputId": "7446a93a-85ab-429d-df23-258fc8980d7b"
      },
      "outputs": [
        {
          "output_type": "stream",
          "name": "stdout",
          "text": [
            "Collecting llama-index\n",
            "  Downloading llama_index-0.8.64.post1-py3-none-any.whl (846 kB)\n",
            "\u001b[2K     \u001b[90m━━━━━━━━━━━━━━━━━━━━━━━━━━━━━━━━━━━━━━━━\u001b[0m \u001b[32m846.1/846.1 kB\u001b[0m \u001b[31m11.6 MB/s\u001b[0m eta \u001b[36m0:00:00\u001b[0m\n",
            "\u001b[?25hCollecting sentence-transformers\n",
            "  Downloading sentence-transformers-2.2.2.tar.gz (85 kB)\n",
            "\u001b[2K     \u001b[90m━━━━━━━━━━━━━━━━━━━━━━━━━━━━━━━━━━━━━━━━\u001b[0m \u001b[32m86.0/86.0 kB\u001b[0m \u001b[31m9.9 MB/s\u001b[0m eta \u001b[36m0:00:00\u001b[0m\n",
            "\u001b[?25h  Preparing metadata (setup.py) ... \u001b[?25l\u001b[?25hdone\n",
            "Collecting cohere\n",
            "  Downloading cohere-4.32-py3-none-any.whl (47 kB)\n",
            "\u001b[2K     \u001b[90m━━━━━━━━━━━━━━━━━━━━━━━━━━━━━━━━━━━━━━━━\u001b[0m \u001b[32m48.0/48.0 kB\u001b[0m \u001b[31m5.1 MB/s\u001b[0m eta \u001b[36m0:00:00\u001b[0m\n",
            "\u001b[?25hCollecting anthropic\n",
            "  Downloading anthropic-0.5.0-py3-none-any.whl (801 kB)\n",
            "\u001b[2K     \u001b[90m━━━━━━━━━━━━━━━━━━━━━━━━━━━━━━━━━━━━━━━━\u001b[0m \u001b[32m801.8/801.8 kB\u001b[0m \u001b[31m53.4 MB/s\u001b[0m eta \u001b[36m0:00:00\u001b[0m\n",
            "\u001b[?25hCollecting voyageai\n",
            "  Downloading voyageai-0.1.2-py3-none-any.whl (22 kB)\n",
            "Requirement already satisfied: protobuf in /usr/local/lib/python3.10/dist-packages (3.20.3)\n",
            "Collecting pypdf\n",
            "  Downloading pypdf-3.17.0-py3-none-any.whl (277 kB)\n",
            "\u001b[2K     \u001b[90m━━━━━━━━━━━━━━━━━━━━━━━━━━━━━━━━━━━━━━━━\u001b[0m \u001b[32m277.4/277.4 kB\u001b[0m \u001b[31m22.0 MB/s\u001b[0m eta \u001b[36m0:00:00\u001b[0m\n",
            "\u001b[?25hRequirement already satisfied: SQLAlchemy[asyncio]>=1.4.49 in /usr/local/lib/python3.10/dist-packages (from llama-index) (2.0.23)\n",
            "Collecting aiostream<0.6.0,>=0.5.2 (from llama-index)\n",
            "  Downloading aiostream-0.5.2-py3-none-any.whl (39 kB)\n",
            "Collecting dataclasses-json<0.6.0,>=0.5.7 (from llama-index)\n",
            "  Downloading dataclasses_json-0.5.14-py3-none-any.whl (26 kB)\n",
            "Collecting deprecated>=1.2.9.3 (from llama-index)\n",
            "  Downloading Deprecated-1.2.14-py2.py3-none-any.whl (9.6 kB)\n",
            "Requirement already satisfied: fsspec>=2023.5.0 in /usr/local/lib/python3.10/dist-packages (from llama-index) (2023.6.0)\n",
            "Collecting langchain>=0.0.303 (from llama-index)\n",
            "  Downloading langchain-0.0.331-py3-none-any.whl (2.0 MB)\n",
            "\u001b[2K     \u001b[90m━━━━━━━━━━━━━━━━━━━━━━━━━━━━━━━━━━━━━━━━\u001b[0m \u001b[32m2.0/2.0 MB\u001b[0m \u001b[31m59.9 MB/s\u001b[0m eta \u001b[36m0:00:00\u001b[0m\n",
            "\u001b[?25hRequirement already satisfied: nest-asyncio<2.0.0,>=1.5.8 in /usr/local/lib/python3.10/dist-packages (from llama-index) (1.5.8)\n",
            "Requirement already satisfied: nltk<4.0.0,>=3.8.1 in /usr/local/lib/python3.10/dist-packages (from llama-index) (3.8.1)\n",
            "Requirement already satisfied: numpy in /usr/local/lib/python3.10/dist-packages (from llama-index) (1.23.5)\n",
            "Collecting openai>=1.1.0 (from llama-index)\n",
            "  Downloading openai-1.1.1-py3-none-any.whl (217 kB)\n",
            "\u001b[2K     \u001b[90m━━━━━━━━━━━━━━━━━━━━━━━━━━━━━━━━━━━━━━━━\u001b[0m \u001b[32m217.8/217.8 kB\u001b[0m \u001b[31m18.5 MB/s\u001b[0m eta \u001b[36m0:00:00\u001b[0m\n",
            "\u001b[?25hRequirement already satisfied: pandas in /usr/local/lib/python3.10/dist-packages (from llama-index) (1.5.3)\n",
            "Requirement already satisfied: tenacity<9.0.0,>=8.2.0 in /usr/local/lib/python3.10/dist-packages (from llama-index) (8.2.3)\n",
            "Collecting tiktoken>=0.3.3 (from llama-index)\n",
            "  Downloading tiktoken-0.5.1-cp310-cp310-manylinux_2_17_x86_64.manylinux2014_x86_64.whl (2.0 MB)\n",
            "\u001b[2K     \u001b[90m━━━━━━━━━━━━━━━━━━━━━━━━━━━━━━━━━━━━━━━━\u001b[0m \u001b[32m2.0/2.0 MB\u001b[0m \u001b[31m62.2 MB/s\u001b[0m eta \u001b[36m0:00:00\u001b[0m\n",
            "\u001b[?25hRequirement already satisfied: typing-extensions>=4.5.0 in /usr/local/lib/python3.10/dist-packages (from llama-index) (4.5.0)\n",
            "Collecting typing-inspect>=0.8.0 (from llama-index)\n",
            "  Downloading typing_inspect-0.9.0-py3-none-any.whl (8.8 kB)\n",
            "Collecting urllib3<2 (from llama-index)\n",
            "  Downloading urllib3-1.26.18-py2.py3-none-any.whl (143 kB)\n",
            "\u001b[2K     \u001b[90m━━━━━━━━━━━━━━━━━━━━━━━━━━━━━━━━━━━━━━━━\u001b[0m \u001b[32m143.8/143.8 kB\u001b[0m \u001b[31m14.3 MB/s\u001b[0m eta \u001b[36m0:00:00\u001b[0m\n",
            "\u001b[?25hCollecting transformers<5.0.0,>=4.6.0 (from sentence-transformers)\n",
            "  Downloading transformers-4.35.0-py3-none-any.whl (7.9 MB)\n",
            "\u001b[2K     \u001b[90m━━━━━━━━━━━━━━━━━━━━━━━━━━━━━━━━━━━━━━━━\u001b[0m \u001b[32m7.9/7.9 MB\u001b[0m \u001b[31m65.7 MB/s\u001b[0m eta \u001b[36m0:00:00\u001b[0m\n",
            "\u001b[?25hRequirement already satisfied: tqdm in /usr/local/lib/python3.10/dist-packages (from sentence-transformers) (4.66.1)\n",
            "Requirement already satisfied: torch>=1.6.0 in /usr/local/lib/python3.10/dist-packages (from sentence-transformers) (2.1.0+cu118)\n",
            "Requirement already satisfied: torchvision in /usr/local/lib/python3.10/dist-packages (from sentence-transformers) (0.16.0+cu118)\n",
            "Requirement already satisfied: scikit-learn in /usr/local/lib/python3.10/dist-packages (from sentence-transformers) (1.2.2)\n",
            "Requirement already satisfied: scipy in /usr/local/lib/python3.10/dist-packages (from sentence-transformers) (1.11.3)\n",
            "Collecting sentencepiece (from sentence-transformers)\n",
            "  Downloading sentencepiece-0.1.99-cp310-cp310-manylinux_2_17_x86_64.manylinux2014_x86_64.whl (1.3 MB)\n",
            "\u001b[2K     \u001b[90m━━━━━━━━━━━━━━━━━━━━━━━━━━━━━━━━━━━━━━━━\u001b[0m \u001b[32m1.3/1.3 MB\u001b[0m \u001b[31m55.4 MB/s\u001b[0m eta \u001b[36m0:00:00\u001b[0m\n",
            "\u001b[?25hCollecting huggingface-hub>=0.4.0 (from sentence-transformers)\n",
            "  Downloading huggingface_hub-0.18.0-py3-none-any.whl (301 kB)\n",
            "\u001b[2K     \u001b[90m━━━━━━━━━━━━━━━━━━━━━━━━━━━━━━━━━━━━━━━━\u001b[0m \u001b[32m302.0/302.0 kB\u001b[0m \u001b[31m29.5 MB/s\u001b[0m eta \u001b[36m0:00:00\u001b[0m\n",
            "\u001b[?25hRequirement already satisfied: aiohttp<4.0,>=3.0 in /usr/local/lib/python3.10/dist-packages (from cohere) (3.8.6)\n",
            "Collecting backoff<3.0,>=2.0 (from cohere)\n",
            "  Downloading backoff-2.2.1-py3-none-any.whl (15 kB)\n",
            "Collecting fastavro==1.8.2 (from cohere)\n",
            "  Downloading fastavro-1.8.2-cp310-cp310-manylinux_2_17_x86_64.manylinux2014_x86_64.whl (2.7 MB)\n",
            "\u001b[2K     \u001b[90m━━━━━━━━━━━━━━━━━━━━━━━━━━━━━━━━━━━━━━━━\u001b[0m \u001b[32m2.7/2.7 MB\u001b[0m \u001b[31m89.6 MB/s\u001b[0m eta \u001b[36m0:00:00\u001b[0m\n",
            "\u001b[?25hRequirement already satisfied: importlib_metadata<7.0,>=6.0 in /usr/local/lib/python3.10/dist-packages (from cohere) (6.8.0)\n",
            "Requirement already satisfied: requests<3.0.0,>=2.25.0 in /usr/local/lib/python3.10/dist-packages (from cohere) (2.31.0)\n",
            "Requirement already satisfied: anyio<4,>=3.5.0 in /usr/local/lib/python3.10/dist-packages (from anthropic) (3.7.1)\n",
            "Requirement already satisfied: distro<2,>=1.7.0 in /usr/lib/python3/dist-packages (from anthropic) (1.7.0)\n",
            "Collecting httpx<1,>=0.23.0 (from anthropic)\n",
            "  Downloading httpx-0.25.1-py3-none-any.whl (75 kB)\n",
            "\u001b[2K     \u001b[90m━━━━━━━━━━━━━━━━━━━━━━━━━━━━━━━━━━━━━━━━\u001b[0m \u001b[32m75.0/75.0 kB\u001b[0m \u001b[31m8.3 MB/s\u001b[0m eta \u001b[36m0:00:00\u001b[0m\n",
            "\u001b[?25hRequirement already satisfied: pydantic<3,>=1.9.0 in /usr/local/lib/python3.10/dist-packages (from anthropic) (1.10.13)\n",
            "Collecting tokenizers>=0.13.0 (from anthropic)\n",
            "  Downloading tokenizers-0.14.1-cp310-cp310-manylinux_2_17_x86_64.manylinux2014_x86_64.whl (3.8 MB)\n",
            "\u001b[2K     \u001b[90m━━━━━━━━━━━━━━━━━━━━━━━━━━━━━━━━━━━━━━━━\u001b[0m \u001b[32m3.8/3.8 MB\u001b[0m \u001b[31m97.0 MB/s\u001b[0m eta \u001b[36m0:00:00\u001b[0m\n",
            "\u001b[?25hRequirement already satisfied: attrs>=17.3.0 in /usr/local/lib/python3.10/dist-packages (from aiohttp<4.0,>=3.0->cohere) (23.1.0)\n",
            "Requirement already satisfied: charset-normalizer<4.0,>=2.0 in /usr/local/lib/python3.10/dist-packages (from aiohttp<4.0,>=3.0->cohere) (3.3.2)\n",
            "Requirement already satisfied: multidict<7.0,>=4.5 in /usr/local/lib/python3.10/dist-packages (from aiohttp<4.0,>=3.0->cohere) (6.0.4)\n",
            "Requirement already satisfied: async-timeout<5.0,>=4.0.0a3 in /usr/local/lib/python3.10/dist-packages (from aiohttp<4.0,>=3.0->cohere) (4.0.3)\n",
            "Requirement already satisfied: yarl<2.0,>=1.0 in /usr/local/lib/python3.10/dist-packages (from aiohttp<4.0,>=3.0->cohere) (1.9.2)\n",
            "Requirement already satisfied: frozenlist>=1.1.1 in /usr/local/lib/python3.10/dist-packages (from aiohttp<4.0,>=3.0->cohere) (1.4.0)\n",
            "Requirement already satisfied: aiosignal>=1.1.2 in /usr/local/lib/python3.10/dist-packages (from aiohttp<4.0,>=3.0->cohere) (1.3.1)\n",
            "Requirement already satisfied: idna>=2.8 in /usr/local/lib/python3.10/dist-packages (from anyio<4,>=3.5.0->anthropic) (3.4)\n",
            "Requirement already satisfied: sniffio>=1.1 in /usr/local/lib/python3.10/dist-packages (from anyio<4,>=3.5.0->anthropic) (1.3.0)\n",
            "Requirement already satisfied: exceptiongroup in /usr/local/lib/python3.10/dist-packages (from anyio<4,>=3.5.0->anthropic) (1.1.3)\n",
            "Collecting marshmallow<4.0.0,>=3.18.0 (from dataclasses-json<0.6.0,>=0.5.7->llama-index)\n",
            "  Downloading marshmallow-3.20.1-py3-none-any.whl (49 kB)\n",
            "\u001b[2K     \u001b[90m━━━━━━━━━━━━━━━━━━━━━━━━━━━━━━━━━━━━━━━━\u001b[0m \u001b[32m49.4/49.4 kB\u001b[0m \u001b[31m5.1 MB/s\u001b[0m eta \u001b[36m0:00:00\u001b[0m\n",
            "\u001b[?25hRequirement already satisfied: wrapt<2,>=1.10 in /usr/local/lib/python3.10/dist-packages (from deprecated>=1.2.9.3->llama-index) (1.14.1)\n",
            "Requirement already satisfied: certifi in /usr/local/lib/python3.10/dist-packages (from httpx<1,>=0.23.0->anthropic) (2023.7.22)\n",
            "Collecting httpcore (from httpx<1,>=0.23.0->anthropic)\n",
            "  Downloading httpcore-1.0.1-py3-none-any.whl (76 kB)\n",
            "\u001b[2K     \u001b[90m━━━━━━━━━━━━━━━━━━━━━━━━━━━━━━━━━━━━━━━━\u001b[0m \u001b[32m76.9/76.9 kB\u001b[0m \u001b[31m8.8 MB/s\u001b[0m eta \u001b[36m0:00:00\u001b[0m\n",
            "\u001b[?25hRequirement already satisfied: filelock in /usr/local/lib/python3.10/dist-packages (from huggingface-hub>=0.4.0->sentence-transformers) (3.13.1)\n",
            "Requirement already satisfied: pyyaml>=5.1 in /usr/local/lib/python3.10/dist-packages (from huggingface-hub>=0.4.0->sentence-transformers) (6.0.1)\n",
            "Requirement already satisfied: packaging>=20.9 in /usr/local/lib/python3.10/dist-packages (from huggingface-hub>=0.4.0->sentence-transformers) (23.2)\n",
            "Requirement already satisfied: zipp>=0.5 in /usr/local/lib/python3.10/dist-packages (from importlib_metadata<7.0,>=6.0->cohere) (3.17.0)\n",
            "Collecting jsonpatch<2.0,>=1.33 (from langchain>=0.0.303->llama-index)\n",
            "  Downloading jsonpatch-1.33-py2.py3-none-any.whl (12 kB)\n",
            "Collecting langsmith<0.1.0,>=0.0.52 (from langchain>=0.0.303->llama-index)\n",
            "  Downloading langsmith-0.0.60-py3-none-any.whl (44 kB)\n",
            "\u001b[2K     \u001b[90m━━━━━━━━━━━━━━━━━━━━━━━━━━━━━━━━━━━━━━━━\u001b[0m \u001b[32m45.0/45.0 kB\u001b[0m \u001b[31m4.5 MB/s\u001b[0m eta \u001b[36m0:00:00\u001b[0m\n",
            "\u001b[?25hRequirement already satisfied: click in /usr/local/lib/python3.10/dist-packages (from nltk<4.0.0,>=3.8.1->llama-index) (8.1.7)\n",
            "Requirement already satisfied: joblib in /usr/local/lib/python3.10/dist-packages (from nltk<4.0.0,>=3.8.1->llama-index) (1.3.2)\n",
            "Requirement already satisfied: regex>=2021.8.3 in /usr/local/lib/python3.10/dist-packages (from nltk<4.0.0,>=3.8.1->llama-index) (2023.6.3)\n",
            "Requirement already satisfied: greenlet!=0.4.17 in /usr/local/lib/python3.10/dist-packages (from SQLAlchemy[asyncio]>=1.4.49->llama-index) (3.0.1)\n",
            "Collecting huggingface-hub>=0.4.0 (from sentence-transformers)\n",
            "  Downloading huggingface_hub-0.17.3-py3-none-any.whl (295 kB)\n",
            "\u001b[2K     \u001b[90m━━━━━━━━━━━━━━━━━━━━━━━━━━━━━━━━━━━━━━━━\u001b[0m \u001b[32m295.0/295.0 kB\u001b[0m \u001b[31m28.4 MB/s\u001b[0m eta \u001b[36m0:00:00\u001b[0m\n",
            "\u001b[?25hRequirement already satisfied: sympy in /usr/local/lib/python3.10/dist-packages (from torch>=1.6.0->sentence-transformers) (1.12)\n",
            "Requirement already satisfied: networkx in /usr/local/lib/python3.10/dist-packages (from torch>=1.6.0->sentence-transformers) (3.2.1)\n",
            "Requirement already satisfied: jinja2 in /usr/local/lib/python3.10/dist-packages (from torch>=1.6.0->sentence-transformers) (3.1.2)\n",
            "Requirement already satisfied: triton==2.1.0 in /usr/local/lib/python3.10/dist-packages (from torch>=1.6.0->sentence-transformers) (2.1.0)\n",
            "Collecting safetensors>=0.3.1 (from transformers<5.0.0,>=4.6.0->sentence-transformers)\n",
            "  Downloading safetensors-0.4.0-cp310-cp310-manylinux_2_17_x86_64.manylinux2014_x86_64.whl (1.3 MB)\n",
            "\u001b[2K     \u001b[90m━━━━━━━━━━━━━━━━━━━━━━━━━━━━━━━━━━━━━━━━\u001b[0m \u001b[32m1.3/1.3 MB\u001b[0m \u001b[31m60.5 MB/s\u001b[0m eta \u001b[36m0:00:00\u001b[0m\n",
            "\u001b[?25hCollecting mypy-extensions>=0.3.0 (from typing-inspect>=0.8.0->llama-index)\n",
            "  Downloading mypy_extensions-1.0.0-py3-none-any.whl (4.7 kB)\n",
            "Requirement already satisfied: python-dateutil>=2.8.1 in /usr/local/lib/python3.10/dist-packages (from pandas->llama-index) (2.8.2)\n",
            "Requirement already satisfied: pytz>=2020.1 in /usr/local/lib/python3.10/dist-packages (from pandas->llama-index) (2023.3.post1)\n",
            "Requirement already satisfied: threadpoolctl>=2.0.0 in /usr/local/lib/python3.10/dist-packages (from scikit-learn->sentence-transformers) (3.2.0)\n",
            "Requirement already satisfied: pillow!=8.3.*,>=5.3.0 in /usr/local/lib/python3.10/dist-packages (from torchvision->sentence-transformers) (9.4.0)\n",
            "Collecting jsonpointer>=1.9 (from jsonpatch<2.0,>=1.33->langchain>=0.0.303->llama-index)\n",
            "  Downloading jsonpointer-2.4-py2.py3-none-any.whl (7.8 kB)\n",
            "Requirement already satisfied: six>=1.5 in /usr/local/lib/python3.10/dist-packages (from python-dateutil>=2.8.1->pandas->llama-index) (1.16.0)\n",
            "Collecting h11<0.15,>=0.13 (from httpcore->httpx<1,>=0.23.0->anthropic)\n",
            "  Downloading h11-0.14.0-py3-none-any.whl (58 kB)\n",
            "\u001b[2K     \u001b[90m━━━━━━━━━━━━━━━━━━━━━━━━━━━━━━━━━━━━━━━━\u001b[0m \u001b[32m58.3/58.3 kB\u001b[0m \u001b[31m7.0 MB/s\u001b[0m eta \u001b[36m0:00:00\u001b[0m\n",
            "\u001b[?25hRequirement already satisfied: MarkupSafe>=2.0 in /usr/local/lib/python3.10/dist-packages (from jinja2->torch>=1.6.0->sentence-transformers) (2.1.3)\n",
            "Requirement already satisfied: mpmath>=0.19 in /usr/local/lib/python3.10/dist-packages (from sympy->torch>=1.6.0->sentence-transformers) (1.3.0)\n",
            "Building wheels for collected packages: sentence-transformers\n",
            "  Building wheel for sentence-transformers (setup.py) ... \u001b[?25l\u001b[?25hdone\n",
            "  Created wheel for sentence-transformers: filename=sentence_transformers-2.2.2-py3-none-any.whl size=125923 sha256=5c39b388d825309f8425573d2429c3e5efff098a346467081ea52fe8b94cda75\n",
            "  Stored in directory: /root/.cache/pip/wheels/62/f2/10/1e606fd5f02395388f74e7462910fe851042f97238cbbd902f\n",
            "Successfully built sentence-transformers\n",
            "Installing collected packages: sentencepiece, urllib3, safetensors, pypdf, mypy-extensions, marshmallow, jsonpointer, h11, fastavro, deprecated, backoff, aiostream, typing-inspect, jsonpatch, httpcore, voyageai, tiktoken, langsmith, huggingface-hub, httpx, dataclasses-json, cohere, tokenizers, openai, langchain, transformers, llama-index, anthropic, sentence-transformers\n",
            "  Attempting uninstall: urllib3\n",
            "    Found existing installation: urllib3 2.0.7\n",
            "    Uninstalling urllib3-2.0.7:\n",
            "      Successfully uninstalled urllib3-2.0.7\n",
            "Successfully installed aiostream-0.5.2 anthropic-0.5.0 backoff-2.2.1 cohere-4.32 dataclasses-json-0.5.14 deprecated-1.2.14 fastavro-1.8.2 h11-0.14.0 httpcore-1.0.1 httpx-0.25.1 huggingface-hub-0.17.3 jsonpatch-1.33 jsonpointer-2.4 langchain-0.0.331 langsmith-0.0.60 llama-index-0.8.64.post1 marshmallow-3.20.1 mypy-extensions-1.0.0 openai-1.1.1 pypdf-3.17.0 safetensors-0.4.0 sentence-transformers-2.2.2 sentencepiece-0.1.99 tiktoken-0.5.1 tokenizers-0.14.1 transformers-4.35.0 typing-inspect-0.9.0 urllib3-1.26.18 voyageai-0.1.2\n"
          ]
        }
      ],
      "source": [
        "!pip install llama-index sentence-transformers cohere anthropic voyageai protobuf pypdf"
      ]
    },
    {
      "cell_type": "markdown",
      "id": "915a3c6b-0e43-4461-a86e-64007ebf9ae5",
      "metadata": {
        "id": "915a3c6b-0e43-4461-a86e-64007ebf9ae5"
      },
      "source": [
        "## Setting Up the Environment"
      ]
    },
    {
      "cell_type": "code",
      "execution_count": null,
      "id": "5e6989d8-25cc-4c53-b42b-3c9315a831ca",
      "metadata": {
        "id": "5e6989d8-25cc-4c53-b42b-3c9315a831ca"
      },
      "outputs": [],
      "source": [
        "from llama_index import VectorStoreIndex, SimpleDirectoryReader, ServiceContext\n",
        "from llama_index.node_parser import SimpleNodeParser\n",
        "\n",
        "# LLM\n",
        "from llama_index.llms import Anthropic\n",
        "\n",
        "# Embeddings\n",
        "from llama_index.embeddings import OpenAIEmbedding, HuggingFaceEmbedding, CohereEmbedding\n",
        "from langchain.embeddings import VoyageEmbeddings, GooglePalmEmbeddings\n",
        "\n",
        "# Retrievers\n",
        "from llama_index.retrievers import (\n",
        "    BaseRetriever,\n",
        "    VectorIndexRetriever,\n",
        ")\n",
        "\n",
        "# Rerankers\n",
        "from llama_index.indices.query.schema import QueryBundle, QueryType\n",
        "from llama_index.schema import NodeWithScore\n",
        "from llama_index.indices.postprocessor.cohere_rerank import CohereRerank\n",
        "from llama_index.indices.postprocessor import SentenceTransformerRerank\n",
        "from llama_index.finetuning.embeddings.common import EmbeddingQAFinetuneDataset\n",
        "\n",
        "# Evaluator\n",
        "from llama_index.evaluation import (\n",
        "    generate_question_context_pairs,\n",
        "    EmbeddingQAFinetuneDataset,\n",
        ")\n",
        "from llama_index.evaluation import RetrieverEvaluator\n",
        "\n",
        "\n",
        "from typing import List\n",
        "import pandas as pd\n",
        "import openai\n",
        "import voyageai\n",
        "\n",
        "import nest_asyncio\n",
        "\n",
        "nest_asyncio.apply()"
      ]
    },
    {
      "cell_type": "markdown",
      "id": "3f650d35-fbd6-4e4e-968d-808ff9fbb923",
      "metadata": {
        "id": "3f650d35-fbd6-4e4e-968d-808ff9fbb923"
      },
      "source": [
        "## Settingup API Keys"
      ]
    },
    {
      "cell_type": "code",
      "execution_count": null,
      "id": "f5313e42-d71c-4427-a0e2-0578f3831c4c",
      "metadata": {
        "id": "f5313e42-d71c-4427-a0e2-0578f3831c4c"
      },
      "outputs": [],
      "source": [
        "openai_api_key = 'YOUR OPENAI API KEY'\n",
        "cohere_api_key = 'YOUR COHEREAI API KEY'\n",
        "anthropic_api_key = 'YOUR ANTHROPIC API KEY'\n",
        "voyage_api_key = 'YOUR VOYAGE API KEY'\n",
        "google_api_key = 'YOUR GOOGLE PALM API KEY'\n",
        "openai.api_key = openai_api_key"
      ]
    },
    {
      "cell_type": "markdown",
      "id": "2d54c37b-3d4f-4b99-83fd-f98e97f2bcda",
      "metadata": {
        "id": "2d54c37b-3d4f-4b99-83fd-f98e97f2bcda"
      },
      "source": [
        "## Download Data\n",
        "\n",
        "We will use Llama2 paper for this experiment. Let's download the paper."
      ]
    },
    {
      "cell_type": "code",
      "execution_count": null,
      "id": "5ef4be8e-f307-45a2-8dcf-319738b55051",
      "metadata": {
        "id": "5ef4be8e-f307-45a2-8dcf-319738b55051"
      },
      "outputs": [],
      "source": [
        "!wget --user-agent \"Mozilla\" \"https://arxiv.org/pdf/2307.09288.pdf\" -O \"llama2.pdf\""
      ]
    },
    {
      "cell_type": "markdown",
      "id": "28633c1f-86ba-4272-afc9-ddd3a17c8593",
      "metadata": {
        "id": "28633c1f-86ba-4272-afc9-ddd3a17c8593"
      },
      "source": [
        "## Loading the Data\n",
        "\n",
        "Let’s load the data. We will use Pages from start to 36 for the experiment which excludes table of contents, references and appendix.\n",
        "\n",
        "This data was then parsed by converted to nodes, which represent chunks of data we'd like to retrieve. We did use chunk_size as 512."
      ]
    },
    {
      "cell_type": "code",
      "execution_count": null,
      "id": "43f367cc-7ed9-4cf3-9f19-de223eec0841",
      "metadata": {
        "id": "43f367cc-7ed9-4cf3-9f19-de223eec0841"
      },
      "outputs": [],
      "source": [
        "documents = SimpleDirectoryReader(input_files=['llama2.pdf']).load_data()"
      ]
    },
    {
      "cell_type": "code",
      "execution_count": null,
      "id": "e3971e2d-2b91-4bfa-bb77-c87fef94d8af",
      "metadata": {
        "id": "e3971e2d-2b91-4bfa-bb77-c87fef94d8af"
      },
      "outputs": [],
      "source": [
        "node_parser = SimpleNodeParser.from_defaults(chunk_size=512)\n",
        "nodes = node_parser.get_nodes_from_documents(documents[:37])"
      ]
    },
    {
      "cell_type": "markdown",
      "id": "22f83542-cc39-45fa-a728-c8a94f3e1be3",
      "metadata": {
        "id": "22f83542-cc39-45fa-a728-c8a94f3e1be3"
      },
      "source": [
        "## Generating Question-Context Pairs\n",
        "\n",
        "For evaluation purposes, we created a dataset of question-context pairs. This dataset can be seen as a set of questions and their corresponding context from our data. To remove bias for evaluation of embedding(OpenAI/ CohereAI) and Reranker (CohereAI), we use Anthropic LLM to generate Question-Context Pairs."
      ]
    },
    {
      "cell_type": "markdown",
      "id": "31753606-fece-4c64-9152-b7623be16bca",
      "metadata": {
        "id": "31753606-fece-4c64-9152-b7623be16bca"
      },
      "source": [
        "Let's initialize prompt template to generate question-context pairs."
      ]
    },
    {
      "cell_type": "code",
      "execution_count": null,
      "id": "66a231e0-06cd-4027-8cb9-f88ea1910b93",
      "metadata": {
        "id": "66a231e0-06cd-4027-8cb9-f88ea1910b93"
      },
      "outputs": [],
      "source": [
        "# Prompt to generate questions\n",
        "qa_generate_prompt_tmpl = \"\"\"\\\n",
        "Context information is below.\n",
        "\n",
        "---------------------\n",
        "{context_str}\n",
        "---------------------\n",
        "\n",
        "Given the context information and not prior knowledge.\n",
        "generate only questions based on the below query.\n",
        "\n",
        "You are a Professor. Your task is to setup \\\n",
        "{num_questions_per_chunk} questions for an upcoming \\\n",
        "quiz/examination. The questions should be diverse in nature \\\n",
        "across the document. The questions should not contain options, not start with Q1/ Q2. \\\n",
        "Restrict the questions to the context information provided.\\\n",
        "\"\"\""
      ]
    },
    {
      "cell_type": "code",
      "execution_count": null,
      "id": "ffd8318d-68a2-4808-934a-6302501fae7b",
      "metadata": {
        "id": "ffd8318d-68a2-4808-934a-6302501fae7b"
      },
      "outputs": [],
      "source": [
        "llm = Anthropic(api_key=anthropic_api_key, temperature=0)\n",
        "qa_dataset = generate_question_context_pairs(\n",
        "    nodes, llm=llm, num_questions_per_chunk=2, qa_generate_prompt_tmpl=qa_generate_prompt_tmpl\n",
        ")"
      ]
    },
    {
      "cell_type": "markdown",
      "id": "1ee59cb1-0d42-4bc5-bd34-b053450463b4",
      "metadata": {
        "id": "1ee59cb1-0d42-4bc5-bd34-b053450463b4"
      },
      "source": [
        "Function to filter out sentences such as `Here are 2 questions based on provided context`"
      ]
    },
    {
      "cell_type": "code",
      "execution_count": null,
      "id": "290473b1-c568-490e-9526-fb4032a8de09",
      "metadata": {
        "id": "290473b1-c568-490e-9526-fb4032a8de09"
      },
      "outputs": [],
      "source": [
        "# function to clean the dataset\n",
        "def filter_qa_dataset(qa_dataset):\n",
        "    \"\"\"\n",
        "    Filters out queries from the qa_dataset that contain certain phrases and the corresponding\n",
        "    entries in the relevant_docs, and creates a new EmbeddingQAFinetuneDataset object with\n",
        "    the filtered data.\n",
        "\n",
        "    :param qa_dataset: An object that has 'queries', 'corpus', and 'relevant_docs' attributes.\n",
        "    :return: An EmbeddingQAFinetuneDataset object with the filtered queries, corpus and relevant_docs.\n",
        "    \"\"\"\n",
        "\n",
        "    # Extract keys from queries and relevant_docs that need to be removed\n",
        "    queries_relevant_docs_keys_to_remove = {\n",
        "        k for k, v in qa_dataset.queries.items()\n",
        "        if 'Here are 2' in v or 'Here are two' in v\n",
        "    }\n",
        "\n",
        "    # Filter queries and relevant_docs using dictionary comprehensions\n",
        "    filtered_queries = {\n",
        "        k: v for k, v in qa_dataset.queries.items()\n",
        "        if k not in queries_relevant_docs_keys_to_remove\n",
        "    }\n",
        "    filtered_relevant_docs = {\n",
        "        k: v for k, v in qa_dataset.relevant_docs.items()\n",
        "        if k not in queries_relevant_docs_keys_to_remove\n",
        "    }\n",
        "\n",
        "    # Create a new instance of EmbeddingQAFinetuneDataset with the filtered data\n",
        "    return EmbeddingQAFinetuneDataset(\n",
        "        queries=filtered_queries,\n",
        "        corpus=qa_dataset.corpus,\n",
        "        relevant_docs=filtered_relevant_docs\n",
        "    )"
      ]
    },
    {
      "cell_type": "code",
      "execution_count": null,
      "id": "9c0f70e6-eb3f-4823-b457-64e08ee7612a",
      "metadata": {
        "id": "9c0f70e6-eb3f-4823-b457-64e08ee7612a"
      },
      "outputs": [],
      "source": [
        "# filter out pairs with phrases `Here are 2 questions based on provided context`\n",
        "qa_dataset = filter_qa_dataset(qa_dataset)"
      ]
    },
    {
      "cell_type": "markdown",
      "id": "4f757e90-3f95-4c1d-ba2a-e172a0fd7645",
      "metadata": {
        "id": "4f757e90-3f95-4c1d-ba2a-e172a0fd7645"
      },
      "source": [
        "## Initialize Embeddings and Retrievers\n",
        "\n",
        "Do note that JinaAI embeddings requires compute."
      ]
    },
    {
      "cell_type": "code",
      "execution_count": null,
      "id": "aab9d1ec-2ca4-4cd3-bd8b-0dde31f51d73",
      "metadata": {
        "id": "aab9d1ec-2ca4-4cd3-bd8b-0dde31f51d73"
      },
      "outputs": [],
      "source": [
        "# Define all embeddings and rerankers\n",
        "EMBEDDINGS = {\n",
        "    \"OpenAI\": OpenAIEmbedding(),\n",
        "    \"bge-large\": HuggingFaceEmbedding(model_name='BAAI/bge-large-en'), # You can use mean pooling by addin pooling='mean' parameter\n",
        "    \"llm-embedder\": HuggingFaceEmbedding(model_name='BAAI/llm-embedder'),\n",
        "    \"CohereV2\": CohereEmbedding(cohere_api_key=cohere_api_key, model_name='embed-english-v2.0'),\n",
        "    \"CohereV3\": CohereEmbedding(cohere_api_key=cohere_api_key, model_name='embed-english-v3.0', input_type='search_document'),\n",
        "    \"Voyage\": VoyageEmbeddings(voyage_api_key=voyage_api_key),\n",
        "    \"JinaAI-Small\": HuggingFaceEmbedding(model_name='jinaai/jina-embeddings-v2-small-en', pooling='mean', trust_remote_code=True),\n",
        "    \"JinaAI-Base\": HuggingFaceEmbedding(model_name='jinaai/jina-embeddings-v2-base-en', pooling='mean', trust_remote_code=True),\n",
        "    \"Google-PaLM\": GooglePaLMEmbeddings(google_api_key=google_api_key)\n",
        "}\n",
        "\n",
        "RERANKERS = {\n",
        "    \"WithoutReranker\": \"None\",\n",
        "    \"CohereRerank\": CohereRerank(api_key=cohere_api_key, top_n=5),\n",
        "    \"bge-reranker-base\": SentenceTransformerRerank(model=\"BAAI/bge-reranker-base\", top_n=5),\n",
        "    \"bge-reranker-large\": SentenceTransformerRerank(model=\"BAAI/bge-reranker-large\", top_n=5)\n",
        "}"
      ]
    },
    {
      "cell_type": "markdown",
      "id": "6a5533b3-eb9c-4628-b197-a23826178a84",
      "metadata": {
        "id": "6a5533b3-eb9c-4628-b197-a23826178a84"
      },
      "source": [
        "### Define a function to display results"
      ]
    },
    {
      "cell_type": "code",
      "execution_count": null,
      "id": "1bdc5076-7806-4cec-a168-a18f1639a5b8",
      "metadata": {
        "id": "1bdc5076-7806-4cec-a168-a18f1639a5b8"
      },
      "outputs": [],
      "source": [
        "def display_results(embedding_name, reranker_name, eval_results):\n",
        "    \"\"\"Display results from evaluate.\"\"\"\n",
        "\n",
        "    metric_dicts = []\n",
        "    for eval_result in eval_results:\n",
        "        metric_dict = eval_result.metric_vals_dict\n",
        "        metric_dicts.append(metric_dict)\n",
        "\n",
        "    full_df = pd.DataFrame(metric_dicts)\n",
        "\n",
        "    hit_rate = full_df[\"hit_rate\"].mean()\n",
        "    mrr = full_df[\"mrr\"].mean()\n",
        "\n",
        "    metric_df = pd.DataFrame(\n",
        "        {\"Embedding\": [embedding_name], \"Reranker\": [reranker_name], \"hit_rate\": [hit_rate], \"mrr\": [mrr]}\n",
        "    )\n",
        "\n",
        "    return metric_df"
      ]
    },
    {
      "cell_type": "markdown",
      "id": "ba1106e7-1135-461e-82a6-8ac758d60ab0",
      "metadata": {
        "id": "ba1106e7-1135-461e-82a6-8ac758d60ab0"
      },
      "source": [
        "## Define Retriever and Evaluate\n",
        "\n",
        "To identify the optimal retriever, we employ a combination of an embedding model and a reranker. Initially, we establish a base VectorIndexRetriever. Upon retrieving the nodes, we then introduce a reranker to further refine the results. It's worth noting that for this particular experiment, we've set similarity_top_k to 5. However, feel free to adjust this parameter based on the needs of your specific experiment."
      ]
    },
    {
      "cell_type": "code",
      "execution_count": null,
      "id": "bb39aa8f-d79f-4d4e-82e7-fa7289c86667",
      "metadata": {
        "id": "bb39aa8f-d79f-4d4e-82e7-fa7289c86667"
      },
      "outputs": [],
      "source": [
        "results_df = pd.DataFrame()\n",
        "\n",
        "# Loop over embeddings\n",
        "for embed_name, embed_model in EMBEDDINGS.items():\n",
        "\n",
        "    service_context = ServiceContext.from_defaults(llm=None, embed_model=embed_model)\n",
        "    vector_index = VectorStoreIndex(nodes, service_context=service_context)\n",
        "\n",
        "    if embed_name != 'CohereV3':\n",
        "        vector_retriever = VectorIndexRetriever(index=vector_index, similarity_top_k=10, service_context=service_context)\n",
        "    else:\n",
        "        embed_model = CohereEmbedding(cohere_api_key=cohere_api_key, model_name='embed-english-v3.0', input_type='search_query')\n",
        "        service_context = ServiceContext.from_defaults(llm=None, embed_model=embed_model)\n",
        "        vector_retriever = VectorIndexRetriever(index=vector_index, similarity_top_k=10, service_context=service_context)\n",
        "\n",
        "    # Loop over rerankers\n",
        "    for rerank_name, reranker in RERANKERS.items():\n",
        "\n",
        "        print(f\"Running Evaluation for Embedding Model: {embed_name} and Reranker: {rerank_name}\")\n",
        "\n",
        "        # Define Retriever\n",
        "        class CustomRetriever(BaseRetriever):\n",
        "            \"\"\"Custom retriever that performs both Vector search and Knowledge Graph search\"\"\"\n",
        "\n",
        "            def __init__(\n",
        "                self,\n",
        "                vector_retriever: VectorIndexRetriever,\n",
        "            ) -> None:\n",
        "                \"\"\"Init params.\"\"\"\n",
        "\n",
        "                self._vector_retriever = vector_retriever\n",
        "\n",
        "            def _retrieve(self, query_bundle: QueryBundle) -> List[NodeWithScore]:\n",
        "                \"\"\"Retrieve nodes given query.\"\"\"\n",
        "\n",
        "                retrieved_nodes = self._vector_retriever.retrieve(query_bundle)\n",
        "\n",
        "                if reranker != 'None':\n",
        "                    retrieved_nodes = reranker.postprocess_nodes(retrieved_nodes, query_bundle)\n",
        "                else:\n",
        "                    retrieved_nodes = retrieved_nodes[:5]\n",
        "\n",
        "                return retrieved_nodes\n",
        "\n",
        "            async def _aretrieve(self, query_bundle: QueryBundle) -> List[NodeWithScore]:\n",
        "                \"\"\"Asynchronously retrieve nodes given query.\n",
        "\n",
        "                Implemented by the user.\n",
        "\n",
        "                \"\"\"\n",
        "                return self._retrieve(query_bundle)\n",
        "\n",
        "            async def aretrieve(self, str_or_query_bundle: QueryType) -> List[NodeWithScore]:\n",
        "                if isinstance(str_or_query_bundle, str):\n",
        "                    str_or_query_bundle = QueryBundle(str_or_query_bundle)\n",
        "                return await self._aretrieve(str_or_query_bundle)\n",
        "\n",
        "        custom_retriever = CustomRetriever(vector_retriever)\n",
        "\n",
        "        retriever_evaluator = RetrieverEvaluator.from_metric_names(\n",
        "            [\"mrr\", \"hit_rate\"], retriever=custom_retriever\n",
        "        )\n",
        "        eval_results = await retriever_evaluator.aevaluate_dataset(qa_dataset)\n",
        "\n",
        "        current_df = display_results(embed_name, rerank_name, eval_results)\n",
        "        results_df = pd.concat([results_df, current_df], ignore_index=True)"
      ]
    },
    {
      "cell_type": "markdown",
      "id": "0b5cde62-5923-4caa-a6c3-c0c081716a73",
      "metadata": {
        "id": "0b5cde62-5923-4caa-a6c3-c0c081716a73"
      },
      "source": [
        "## Check Results"
      ]
    },
    {
      "cell_type": "code",
      "execution_count": null,
      "id": "605bb11c-97f2-4405-9603-9cacd44fb535",
      "metadata": {
        "id": "605bb11c-97f2-4405-9603-9cacd44fb535"
      },
      "outputs": [],
      "source": [
        "# Display final results\n",
        "print(results_df)"
      ]
    },
    {
      "cell_type": "markdown",
      "source": [
        "![Screenshot 2023-11-08 at 9.15.38 PM.png](data:image/png;base64,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)"
      ],
      "metadata": {
        "id": "gy9MvWn-qUa8"
      },
      "id": "gy9MvWn-qUa8"
    },
    {
      "cell_type": "markdown",
      "source": [
        "Please be aware that our benchmarks are intended to offer a reproducible script for your own data. Nevertheless, treat these figures as estimates and proceed with caution when interpreting them."
      ],
      "metadata": {
        "id": "wE0yThFuxcJ1"
      },
      "id": "wE0yThFuxcJ1"
    },
    {
      "cell_type": "code",
      "source": [],
      "metadata": {
        "id": "iwSTyLd2suqP"
      },
      "id": "iwSTyLd2suqP",
      "execution_count": null,
      "outputs": []
    }
  ],
  "metadata": {
    "kernelspec": {
      "display_name": "Python 3 (ipykernel)",
      "language": "python",
      "name": "python3"
    },
    "language_info": {
      "codemirror_mode": {
        "name": "ipython",
        "version": 3
      },
      "file_extension": ".py",
      "mimetype": "text/x-python",
      "name": "python",
      "nbconvert_exporter": "python",
      "pygments_lexer": "ipython3",
      "version": "3.10.6"
    },
    "colab": {
      "provenance": [],
      "include_colab_link": true
    }
  },
  "nbformat": 4,
  "nbformat_minor": 5
}