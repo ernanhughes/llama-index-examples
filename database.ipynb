{
 "cells": [
  {
   "cell_type": "markdown",
   "metadata": {},
   "source": [
    "Connect to an sqlite database and select some data"
   ]
  },
  {
   "cell_type": "code",
   "execution_count": 3,
   "metadata": {},
   "outputs": [
    {
     "name": "stdout",
     "output_type": "stream",
     "text": [
      "ArtistId: 1, Name: AC/DC\n",
      "ArtistId: 2, Name: Accept\n",
      "ArtistId: 3, Name: Aerosmith\n",
      "ArtistId: 4, Name: Alanis Morissette\n",
      "ArtistId: 5, Name: Alice In Chains\n"
     ]
    }
   ],
   "source": [
    "from llama_index.readers.database import DatabaseReader\n",
    "\n",
    "reader = DatabaseReader(uri=\"sqlite:///data/db/chinook.db\")\n",
    "query = \"SELECT * FROM artist LIMIT 5\"\n",
    "documents = reader.load_data(query=query)\n",
    "for doc in documents:\n",
    "    print(doc.text)"
   ]
  },
  {
   "cell_type": "markdown",
   "metadata": {},
   "source": []
  }
 ],
 "metadata": {
  "kernelspec": {
   "display_name": "llama_index",
   "language": "python",
   "name": "python3"
  },
  "language_info": {
   "codemirror_mode": {
    "name": "ipython",
    "version": 3
   },
   "file_extension": ".py",
   "mimetype": "text/x-python",
   "name": "python",
   "nbconvert_exporter": "python",
   "pygments_lexer": "ipython3",
   "version": "3.11.9"
  }
 },
 "nbformat": 4,
 "nbformat_minor": 2
}
