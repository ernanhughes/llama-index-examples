{
 "cells": [
  {
   "cell_type": "code",
   "execution_count": 1,
   "metadata": {},
   "outputs": [
    {
     "name": "stdout",
     "output_type": "stream",
     "text": [
      "In ancient Rome, the city of Rome itself was the heart of the vast Roman Empire. It was known for its grand architecture, including iconic structures like the Colosseum and the Pantheon. The Romans were skilled engineers and builders, creating an extensive network of roads, aqueducts, and bridges that connected their far-reaching territories. The Roman Republic, with its Senate and elected officials, gave rise to the famous Roman legions, which conquered vast lands and brought them under Roman rule. The Roman civilization's influence on art, law, and governance can still be seen in modern societies today.\n"
     ]
    }
   ],
   "source": [
    "from llama_index.core import SummaryIndex, SimpleDirectoryReader\n",
    "documents = SimpleDirectoryReader(\"data\").load_data()\n",
    "summary_index = SummaryIndex.from_documents(documents)\n",
    "retriever = summary_index.as_retriever(retriever_mode='embedding')\n",
    "result = retriever.retrieve(\"Tell me about ancient Rome\")\n",
    "print(result[0].text)"
   ]
  },
  {
   "cell_type": "code",
   "execution_count": 2,
   "metadata": {},
   "outputs": [
    {
     "name": "stdout",
     "output_type": "stream",
     "text": [
      "In ancient Rome, the city of Rome itself was the heart of the vast Roman Empire. It was known for its grand architecture, including iconic structures like the Colosseum and the Pantheon. The Romans were skilled engineers and builders, creating an extensive network of roads, aqueducts, and bridges that connected their far-reaching territories. The Roman Republic, with its Senate and elected officials, gave rise to the famous Roman legions, which conquered vast lands and brought them under Roman rule. The Roman civilization's influence on art, law, and governance can still be seen in modern societies today.\n"
     ]
    }
   ],
   "source": [
    "from llama_index.core import SummaryIndex, SimpleDirectoryReader\n",
    "from llama_index.core.retrievers import SummaryIndexEmbeddingRetriever\n",
    "documents = SimpleDirectoryReader(\"data\").load_data()\n",
    "summary_index = SummaryIndex.from_documents(documents)\n",
    "retriever = SummaryIndexEmbeddingRetriever(\n",
    "index=summary_index\n",
    ")\n",
    "result = retriever.retrieve(\"Tell me about ancient Rome\")\n",
    "print(result[0].text)"
   ]
  }
 ],
 "metadata": {
  "kernelspec": {
   "display_name": "llama_index",
   "language": "python",
   "name": "python3"
  },
  "language_info": {
   "codemirror_mode": {
    "name": "ipython",
    "version": 3
   },
   "file_extension": ".py",
   "mimetype": "text/x-python",
   "name": "python",
   "nbconvert_exporter": "python",
   "pygments_lexer": "ipython3",
   "version": "3.11.9"
  }
 },
 "nbformat": 4,
 "nbformat_minor": 2
}
