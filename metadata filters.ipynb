{
 "cells": [
  {
   "cell_type": "code",
   "execution_count": 2,
   "metadata": {},
   "outputs": [],
   "source": [
    "from llama_index.core.vector_stores.types import MetadataFilter, MetadataFilters\n",
    "from llama_index.core import VectorStoreIndex\n",
    "from llama_index.core.schema import TextNode\n",
    "user_departments = {\"Alice\": \"Security\", \"Bob\": \"IT\"}"
   ]
  },
  {
   "cell_type": "code",
   "execution_count": 3,
   "metadata": {},
   "outputs": [
    {
     "name": "stdout",
     "output_type": "stream",
     "text": [
      "Response for Alice: An incident is an accidental or malicious event that has the potential to cause unwanted effects on the security of our IT assets.\n",
      "Response for Bob: An incident is an unexpected interruption or degradation of an IT service.\n"
     ]
    }
   ],
   "source": [
    "nodes = [\n",
    "    TextNode(text=(\"An incident is an accidental or malicious event that has the potential to cause unwanted effects on the security of our IT assets.\"),\n",
    "    metadata={\"department\": \"Security\"},\n",
    "    ),\n",
    "    TextNode(text=(\"An incident is an unexpected interruption or degradation of an IT service.\"),\n",
    "    metadata={\"department\": \"IT\"},\n",
    "    )\n",
    "]\n",
    "def show_report(index, user, query):\n",
    "    user_department = user_departments[user]\n",
    "    filters = MetadataFilters(filters=[MetadataFilter(key=\"department\", value=user_department)])\n",
    "    retriever = index.as_retriever(filters=filters)\n",
    "    response = retriever.retrieve(query)\n",
    "    print(f\"Response for {user}: {response[0].node.text}\")\n",
    "\n",
    "index = VectorStoreIndex(nodes)\n",
    "query = \"What is an incident?\"\n",
    "show_report(index, \"Alice\", query)\n",
    "show_report(index, \"Bob\", query)\n",
    "                                       "
   ]
  },
  {
   "cell_type": "code",
   "execution_count": null,
   "metadata": {},
   "outputs": [],
   "source": [
    "from llama_index.core.vector_stores.types import (FilterOperator, FilterCondition)\n",
    "filters = MetadataFilters(filters=[MetadataFilter(key=\"department\",value=\"Procurement\"), \n",
    "                                   MetadataFilter(key=\"security_classification\",value=<user_clearance_level>,operator=FilterOperator.LTE),],\n",
    "                         condition=FilterCondition.AND)\n"
   ]
  }
 ],
 "metadata": {
  "kernelspec": {
   "display_name": "llama_index",
   "language": "python",
   "name": "python3"
  },
  "language_info": {
   "codemirror_mode": {
    "name": "ipython",
    "version": 3
   },
   "file_extension": ".py",
   "mimetype": "text/x-python",
   "name": "python",
   "nbconvert_exporter": "python",
   "pygments_lexer": "ipython3",
   "version": "3.11.9"
  }
 },
 "nbformat": 4,
 "nbformat_minor": 2
}
