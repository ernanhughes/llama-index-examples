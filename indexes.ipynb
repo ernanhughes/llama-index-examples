{
 "cells": [
  {
   "cell_type": "code",
   "execution_count": 1,
   "metadata": {},
   "outputs": [
    {
     "data": {
      "application/vnd.jupyter.widget-view+json": {
       "model_id": "1fbefd3a11e049d092fa9cf96cafa98f",
       "version_major": 2,
       "version_minor": 0
      },
      "text/plain": [
       "modules.json:   0%|          | 0.00/229 [00:00<?, ?B/s]"
      ]
     },
     "metadata": {},
     "output_type": "display_data"
    },
    {
     "data": {
      "application/vnd.jupyter.widget-view+json": {
       "model_id": "8bdf2e85b3034742ad48f67fcf52625b",
       "version_major": 2,
       "version_minor": 0
      },
      "text/plain": [
       "config_sentence_transformers.json:   0%|          | 0.00/171 [00:00<?, ?B/s]"
      ]
     },
     "metadata": {},
     "output_type": "display_data"
    },
    {
     "data": {
      "application/vnd.jupyter.widget-view+json": {
       "model_id": "a52f557d55694ab4bc2ba5cd27030de5",
       "version_major": 2,
       "version_minor": 0
      },
      "text/plain": [
       "README.md:   0%|          | 0.00/65.6k [00:00<?, ?B/s]"
      ]
     },
     "metadata": {},
     "output_type": "display_data"
    },
    {
     "data": {
      "application/vnd.jupyter.widget-view+json": {
       "model_id": "c39e432ba3014b76a083de175edc0afb",
       "version_major": 2,
       "version_minor": 0
      },
      "text/plain": [
       "sentence_bert_config.json:   0%|          | 0.00/53.0 [00:00<?, ?B/s]"
      ]
     },
     "metadata": {},
     "output_type": "display_data"
    },
    {
     "name": "stderr",
     "output_type": "stream",
     "text": [
      "c:\\Users\\ernan\\anaconda3\\envs\\llama_index\\Lib\\site-packages\\huggingface_hub\\file_download.py:1132: FutureWarning: `resume_download` is deprecated and will be removed in version 1.0.0. Downloads always resume when possible. If you want to force a new download, use `force_download=True`.\n",
      "  warnings.warn(\n"
     ]
    },
    {
     "data": {
      "application/vnd.jupyter.widget-view+json": {
       "model_id": "734ede35b95649dbb46c5091796a5df5",
       "version_major": 2,
       "version_minor": 0
      },
      "text/plain": [
       "config.json:   0%|          | 0.00/655 [00:00<?, ?B/s]"
      ]
     },
     "metadata": {},
     "output_type": "display_data"
    },
    {
     "data": {
      "application/vnd.jupyter.widget-view+json": {
       "model_id": "92cd21240e95447089afb99a4ecfbc45",
       "version_major": 2,
       "version_minor": 0
      },
      "text/plain": [
       "model.safetensors:   0%|          | 0.00/1.34G [00:00<?, ?B/s]"
      ]
     },
     "metadata": {},
     "output_type": "display_data"
    },
    {
     "data": {
      "application/vnd.jupyter.widget-view+json": {
       "model_id": "836bee79acea4e76a39e264507cbb5d0",
       "version_major": 2,
       "version_minor": 0
      },
      "text/plain": [
       "tokenizer_config.json:   0%|          | 0.00/1.24k [00:00<?, ?B/s]"
      ]
     },
     "metadata": {},
     "output_type": "display_data"
    },
    {
     "data": {
      "application/vnd.jupyter.widget-view+json": {
       "model_id": "3b97ceab0e28449ca7c35c6244da7ea0",
       "version_major": 2,
       "version_minor": 0
      },
      "text/plain": [
       "vocab.txt:   0%|          | 0.00/232k [00:00<?, ?B/s]"
      ]
     },
     "metadata": {},
     "output_type": "display_data"
    },
    {
     "data": {
      "application/vnd.jupyter.widget-view+json": {
       "model_id": "0b7bd078c3d8497a9620124a1c412e74",
       "version_major": 2,
       "version_minor": 0
      },
      "text/plain": [
       "tokenizer.json:   0%|          | 0.00/711k [00:00<?, ?B/s]"
      ]
     },
     "metadata": {},
     "output_type": "display_data"
    },
    {
     "data": {
      "application/vnd.jupyter.widget-view+json": {
       "model_id": "24e92b9241054d61a0352920efe46449",
       "version_major": 2,
       "version_minor": 0
      },
      "text/plain": [
       "special_tokens_map.json:   0%|          | 0.00/125 [00:00<?, ?B/s]"
      ]
     },
     "metadata": {},
     "output_type": "display_data"
    },
    {
     "data": {
      "application/vnd.jupyter.widget-view+json": {
       "model_id": "91a828dad4114b4b81197725b9e2090c",
       "version_major": 2,
       "version_minor": 0
      },
      "text/plain": [
       "1_Pooling/config.json:   0%|          | 0.00/297 [00:00<?, ?B/s]"
      ]
     },
     "metadata": {},
     "output_type": "display_data"
    },
    {
     "name": "stdout",
     "output_type": "stream",
     "text": [
      "[-0.03917539492249489, 0.03468374162912369, 0.02090713195502758, -0.0030852279160171747, -0.06369694322347641, -0.01947653666138649, -0.02739558555185795, 0.0026937210932374, 0.04266272112727165, 0.03444785252213478, 0.028132807463407516, 0.033836446702480316, 0.037496354430913925, -0.02119363844394684, 0.012220559641718864]\n"
     ]
    }
   ],
   "source": [
    "from llama_index.embeddings.huggingface import HuggingFaceEmbedding\n",
    "embedding_model = HuggingFaceEmbedding(\n",
    "model_name=\"WhereIsAI/UAE-Large-V1\"\n",
    ")\n",
    "embeddings = embedding_model.get_text_embedding(\n",
    "\"The quick brown fox jumps over the lazy cat!\"\n",
    ")\n",
    "print(embeddings[:15])"
   ]
  },
  {
   "cell_type": "code",
   "execution_count": null,
   "metadata": {},
   "outputs": [],
   "source": [
    "from llama_index.core import VectorStoreIndex, SimpleDirectoryReader\n",
    "documents = SimpleDirectoryReader(\"data\").load_data()\n",
    "index = VectorStoreIndex.from_documents(documents)"
   ]
  },
  {
   "cell_type": "code",
   "execution_count": null,
   "metadata": {},
   "outputs": [],
   "source": [
    "index.storage_context.persist(persist_dir=\"index_cache\")\n",
    "print(\"Index persisted to disk.\")"
   ]
  },
  {
   "cell_type": "code",
   "execution_count": 4,
   "metadata": {},
   "outputs": [
    {
     "name": "stdout",
     "output_type": "stream",
     "text": [
      "You have loaded 17 documents.\n"
     ]
    }
   ],
   "source": [
    "from llama_index.core import SummaryIndex, SimpleDirectoryReader\n",
    "documents = SimpleDirectoryReader(\"data/community\").load_data()\n",
    "index = SummaryIndex.from_documents(documents)\n",
    "query_engine = index.as_query_engine()\n",
    "response = query_engine.query(\"How many documents have you loaded?\")\n",
    "print(response)"
   ]
  },
  {
   "cell_type": "code",
   "execution_count": 5,
   "metadata": {},
   "outputs": [
    {
     "data": {
      "application/vnd.jupyter.widget-view+json": {
       "model_id": "53f3a89757544022923b3177f173fa3f",
       "version_major": 2,
       "version_minor": 0
      },
      "text/plain": [
       "Parsing nodes:   0%|          | 0/2 [00:00<?, ?it/s]"
      ]
     },
     "metadata": {},
     "output_type": "display_data"
    },
    {
     "data": {
      "application/vnd.jupyter.widget-view+json": {
       "model_id": "d536a1c86bb84d31bc0f36c96bf89992",
       "version_major": 2,
       "version_minor": 0
      },
      "text/plain": [
       "Summarizing documents:   0%|          | 0/2 [00:00<?, ?it/s]"
      ]
     },
     "metadata": {},
     "output_type": "display_data"
    },
    {
     "name": "stdout",
     "output_type": "stream",
     "text": [
      "current doc id: ff286814-7232-4aff-a661-20012f19ddd0\n",
      "current doc id: 010e5978-d3eb-4222-8783-831706e2e65e\n"
     ]
    },
    {
     "data": {
      "application/vnd.jupyter.widget-view+json": {
       "model_id": "4d39e34c543c411cb186b67114f2848f",
       "version_major": 2,
       "version_minor": 0
      },
      "text/plain": [
       "Generating embeddings:   0%|          | 0/2 [00:00<?, ?it/s]"
      ]
     },
     "metadata": {},
     "output_type": "display_data"
    }
   ],
   "source": [
    "from llama_index.core import (\n",
    "DocumentSummaryIndex, SimpleDirectoryReader)\n",
    "documents = SimpleDirectoryReader(\"data\").load_data()\n",
    "index = DocumentSummaryIndex.from_documents(\n",
    "   documents,\n",
    "   show_progress=True\n",
    ")"
   ]
  },
  {
   "cell_type": "code",
   "execution_count": 6,
   "metadata": {},
   "outputs": [
    {
     "name": "stdout",
     "output_type": "stream",
     "text": [
      "\n",
      " Summary of the first document: The provided text discusses the grandeur and influence of ancient Rome, highlighting its architectural achievements, engineering prowess, governance structure, military conquests, and lasting impact on art, law, and governance in modern societies. This text can answer questions such as: What were some iconic structures in ancient Rome? How did the Romans connect their territories? What was the political system of the Roman Republic like? What role did the Roman legions play in expanding Roman rule? How has Roman civilization influenced art, law, and governance in contemporary societies?\n",
      "\n",
      " Summary of the second document: The text discusses the companionship and positive attributes of dogs as pets. It highlights the various breeds of dogs, their unique characteristics, and the ways in which they bring joy and love to their owners. Some questions that this text can answer include: What are some qualities that make dogs popular as pets? How do different dog breeds vary in terms of traits and personalities? In what ways do dogs provide comfort and companionship to their owners?\n"
     ]
    }
   ],
   "source": [
    "summary1 = index.get_document_summary(documents[0].doc_id)\n",
    "summary2 = index.get_document_summary(documents[1].doc_id)\n",
    "print(\"\\n Summary of the first document: \" + summary1)\n",
    "print(\"\\n Summary of the second document: \" + summary2)"
   ]
  },
  {
   "cell_type": "code",
   "execution_count": 10,
   "metadata": {},
   "outputs": [
    {
     "name": "stdout",
     "output_type": "stream",
     "text": [
      "The famous buildings in ancient Rome included the Colosseum and the Pantheon.\n"
     ]
    }
   ],
   "source": [
    "from llama_index.core import (KeywordTableIndex, SimpleDirectoryReader)\n",
    "documents = SimpleDirectoryReader(\"data\").load_data()\n",
    "index = KeywordTableIndex.from_documents(documents)\n",
    "query_engine = index.as_query_engine()\n",
    "response = query_engine.query(\"What famous buildings were in ancient Rome?\")\n",
    "print(response)"
   ]
  },
  {
   "cell_type": "code",
   "execution_count": 11,
   "metadata": {},
   "outputs": [
    {
     "name": "stdout",
     "output_type": "stream",
     "text": [
      "Dogs are considered loyal companions by many people, coming in various breeds with unique traits and personalities. They provide comfort, protection, and unwavering love to their owners, making them beloved pets worldwide. Whether playing in the park or relaxing by the fireplace, dogs bring joy to our lives in numerous ways.\n"
     ]
    }
   ],
   "source": [
    "from llama_index.core import TreeIndex, SimpleDirectoryReader\n",
    "documents = SimpleDirectoryReader(\"data\").load_data()\n",
    "index = TreeIndex.from_documents(documents)\n",
    "query_engine = index.as_query_engine()\n",
    "response = query_engine.query(\"Tell me about dogs\")\n",
    "print(response)"
   ]
  },
  {
   "cell_type": "code",
   "execution_count": 16,
   "metadata": {},
   "outputs": [
    {
     "name": "stdout",
     "output_type": "stream",
     "text": [
      "Dogs are domesticated mammals, known for their loyalty and companionship with humans. They come in various breeds, sizes, and temperaments, making them popular pets worldwide. Dogs are known for their ability to be trained for various tasks, such as herding, hunting, assisting people with disabilities, and providing emotional support.\n"
     ]
    }
   ],
   "source": [
    "from llama_index.core import (KnowledgeGraphIndex, SimpleDirectoryReader)\n",
    "documents = SimpleDirectoryReader(\"data\").load_data()\n",
    "index = KnowledgeGraphIndex.from_documents(documents, max_triplets_per_chunk=2)\n",
    "query_engine = index.as_query_engine()\n",
    "response = query_engine.query(\"Tell me about dogs.\")\n",
    "print(response)"
   ]
  }
 ],
 "metadata": {
  "kernelspec": {
   "display_name": "llama_index",
   "language": "python",
   "name": "python3"
  },
  "language_info": {
   "codemirror_mode": {
    "name": "ipython",
    "version": 3
   },
   "file_extension": ".py",
   "mimetype": "text/x-python",
   "name": "python",
   "nbconvert_exporter": "python",
   "pygments_lexer": "ipython3",
   "version": "3.11.9"
  }
 },
 "nbformat": 4,
 "nbformat_minor": 2
}
